{
 "cells": [
  {
   "cell_type": "code",
   "execution_count": null,
   "id": "136debde",
   "metadata": {},
   "outputs": [],
   "source": [
    "from ipynb.fs.full.procc import *\n",
    "import matplotlib.cm as cm\n",
    "from matplotlib import colors\n",
    "import csv\n",
    "from scipy.interpolate import interp2d\n",
    "import sys\n",
    "from IPython.display import clear_output"
   ]
  },
  {
   "cell_type": "code",
   "execution_count": null,
   "id": "d6421d60",
   "metadata": {},
   "outputs": [],
   "source": [
    "def procFiles(for_direc, file_type, start_year, end_year):\n",
    "    \n",
    "    file_dict = {}\n",
    "    # dates = ['0346','0952']\n",
    "    \n",
    "    #creates a dictionary with the file name as the key and the path of the file as the value\n",
    "    for root, dirs, filenames in os.walk(for_direc):\n",
    "        for file in filenames:\n",
    "            if file.endswith(\".nc\") and file_type in file and file[3:7] >= start_year and file[3:7] < end_year and 'aijh1' not in file : #** (aijlh1) change format depending on scaleacc processing, may have to add enddate so doesn't go to 0101-1953, also aij\n",
    "                file_to_add = os.path.join(root + '/', file) \n",
    "                file_dict[file] = file_to_add\n",
    "                       \n",
    "    return file_dict"
   ]
  },
  {
   "cell_type": "code",
   "execution_count": null,
   "id": "82f1cb0e",
   "metadata": {},
   "outputs": [],
   "source": [
    "def openCSV(fn):\n",
    "    array = []\n",
    "\n",
    "    with open(fn, newline='') as csvfile:\n",
    "        spamreader = csv.reader(csvfile, delimiter=',', quotechar='|')\n",
    "        for row in spamreader:\n",
    "            remake_row = []\n",
    "            for num in row:\n",
    "                remake_row.append(float(num))\n",
    "            array.append(remake_row)\n",
    "\n",
    "    return np.array(array)"
   ]
  },
  {
   "cell_type": "code",
   "execution_count": null,
   "id": "ed362d5b",
   "metadata": {},
   "outputs": [],
   "source": [
    "# Interpolation functions:\n",
    "def interpNans(x,y,z):\n",
    "    \n",
    "    nan_map = np.zeros_like( z )\n",
    "    nan_map[ np.isnan(z) ] = 1\n",
    "\n",
    "    filled_z = z.copy()\n",
    "    filled_z[ np.isnan(z) ] = 0\n",
    "\n",
    "    f = interp2d(x, y, filled_z, kind='linear')\n",
    "    f_nan = interp2d(x, y, nan_map, kind='linear')     \n",
    "\n",
    "    # Interpolation on new points:\n",
    "    xnew = np.linspace(np.min(x), np.max(x), len(x)*2-1)\n",
    "    ynew = np.linspace(np.min(y), np.max(y), len(y)*2-1)\n",
    "\n",
    "    z_new = f(xnew, ynew)\n",
    "    nan_new = f_nan( xnew, ynew )\n",
    "    z_new[ nan_new>0.5 ] = np.nan\n",
    "    \n",
    "    return xnew,ynew,z_new"
   ]
  },
  {
   "cell_type": "code",
   "execution_count": null,
   "id": "65980533",
   "metadata": {},
   "outputs": [],
   "source": [
    "def remNan(array):\n",
    "    \n",
    "    replace_val = np.nanmean(array)\n",
    "    \n",
    "    for i in range(0,len(array)):\n",
    "        for j in range(0,len(array[i])):\n",
    "            if np.isnan(array[i,j]):\n",
    "                array[i,j] = replace_val\n",
    "    \n",
    "    return array\n",
    "    "
   ]
  },
  {
   "cell_type": "code",
   "execution_count": null,
   "id": "e06ac659",
   "metadata": {},
   "outputs": [],
   "source": [
    "def graphContour(x,y,z,savename): #levels=np.linspace(np.nanmin(z),np.nanmax(z),8)):\n",
    "    plt.clf()\n",
    "\n",
    "    plt.figure(figsize=(12, 6), dpi=100)\n",
    "    plt.rcParams.update({'font.size': 14})\n",
    "\n",
    "    plt.xlim([-180,180])\n",
    "    plt.ylim([-90,90])\n",
    "\n",
    "    plt.yticks([-90,-60,-30,0,30,60,90])\n",
    "    plt.xticks([-180,-150,-120,-90,-60,-30,0,30,60,90,120,150,180])\n",
    "\n",
    "    plt.xlabel('Longitude (°)')\n",
    "    plt.ylabel('Latitude (°)')\n",
    "    \n",
    "    #levels=np.linspace(np.nanmin(z),np.nanmax(z),8)\n",
    "    \n",
    "    plt.contourf(x,y,z, levels=np.arange(-1.2,1.3,0.2))\n",
    "    plt.colorbar(label='Wind Velocity (m/s)')\n",
    "    \n",
    "    plt.savefig('/Users/maxcollins/Desktop/organized images/Contours/longitude latitude/'+run+'_'+savename+'Contour_latlon.png', bbox_inches='tight')\n",
    "    #plt.savefig('/home/maxqc/images/Contours/'+run+'_'+savename+'Contour_latlon.png', bbox_inches='tight')\n",
    "    plt.show()\n"
   ]
  },
  {
   "cell_type": "code",
   "execution_count": null,
   "id": "1360068f",
   "metadata": {},
   "outputs": [],
   "source": [
    "# direc = str(sys.argv[1])\n",
    "# file_type = str(sys.argv[2])            # aij\n",
    "# start_year = str(sys.argv[3])\n",
    "# end_year = str(sys.argv[4])\n",
    "# run = str(sys.argv[5]) # year after the last wanted"
   ]
  },
  {
   "cell_type": "code",
   "execution_count": null,
   "id": "efac0b2b",
   "metadata": {},
   "outputs": [],
   "source": [
    "direc = \"/Volumes/ExHDD/TitanWTZ0_10yrDaily\"\n",
    "file_type = \"aij\"           # aij\n",
    "start_year = \"1960\"\n",
    "end_year = \"1971\"\n",
    "run = \"Z0\" # year after the last wanted"
   ]
  },
  {
   "cell_type": "code",
   "execution_count": null,
   "id": "3b57ce34",
   "metadata": {},
   "outputs": [],
   "source": [
    "procDirec = procFiles(direc, file_type, start_year, end_year)"
   ]
  },
  {
   "cell_type": "code",
   "execution_count": null,
   "id": "cf9f423a",
   "metadata": {},
   "outputs": [],
   "source": [
    "lats = np.arange(-90., 91., 4)\n",
    "lons = np.arange(-177.5, 177.6, 5)\n",
    "\n",
    "u_grid = np.zeros([len(lats),len(lons)])\n",
    "v_grid = np.zeros([len(lats),len(lons)])\n",
    "\n",
    "count_v_grid = np.zeros([len(lats),len(lons)])\n",
    "count_u_grid = np.zeros([len(lats),len(lons)])"
   ]
  },
  {
   "cell_type": "code",
   "execution_count": null,
   "id": "4d0b6a21",
   "metadata": {},
   "outputs": [],
   "source": [
    "count=0\n",
    "total = len(lats)*len(lons)*len(procDirec.keys())\n",
    "\n",
    "for key in procDirec.keys(): # Year 0, Year 1, ...\n",
    "        \n",
    "        with xr.open_dataset(procDirec[key]) as ds:\n",
    "\n",
    "            for i, lat in enumerate(lats):\n",
    "\n",
    "                for j, lon in enumerate(lons):\n",
    "\n",
    "                    u = ds.usurf.sel(lat=lat,lon=lon)\n",
    "                    v = ds.vsurf.sel(lat=lat,lon=lon)\n",
    "\n",
    "                    if not np.isnan(u):\n",
    "                        u_grid[i,j] = u_grid[i,j] + u   \n",
    "                        count_u_grid[i,j] += 1 \n",
    "                    \n",
    "                    if not np.isnan(v):\n",
    "                        v_grid[i,j] = v_grid[i,j] + v\n",
    "                        count_v_grid[i,j] += 1\n",
    "                    \n",
    "                    count+=1\n",
    "                    \n",
    "                    perc=float(count/total)*100\n",
    "                    \n",
    "                    text = \"Percent completed: {:.2f}% \".format(perc)\n",
    "                    \n",
    "                    print(text)\n",
    "                    \n",
    "                    clear_output(wait=True)\n",
    "            \n",
    "for i in range(0,len(lats)):\n",
    "    \n",
    "    for j in range(0,len(lons)):\n",
    "        \n",
    "        if float(u_grid[i,j]):\n",
    "            u_grid[i,j] = 1.0*u_grid[i,j]/count_u_grid[i,j]\n",
    "        if float(v_grid[i,j]):\n",
    "            v_grid[i,j] = 1.0*v_grid[i,j]/count_v_grid[i,j]\n",
    "\n",
    "clear_output(wait=True)\n",
    "\n",
    "np.savetxt(\"/Users/maxcollins/Documents/Code/python/data/\"+run+\"AIJv_grid.csv\", v_grid, delimiter=\",\")\n",
    "np.savetxt(\"/Users/maxcollins/Documents/Code/python/data/\"+run+\"AIJu_grid.csv\", u_grid, delimiter=\",\")"
   ]
  },
  {
   "cell_type": "code",
   "execution_count": null,
   "id": "cc0de97a",
   "metadata": {},
   "outputs": [],
   "source": [
    "# u = openCSV(\"/home/maxqc/Python/data/\"+run+\"AIJu_grid.csv\")\n",
    "# v = openCSV(\"/home/maxqc/Python/data/\"+run+\"AIJv_grid.csv\")\n",
    "\n",
    "u = openCSV(\"/Users/maxcollins/Documents/Code/python/data/\"+run+\"/\"+run+\"AIJu_grid.csv\")\n",
    "v = openCSV(\"/Users/maxcollins/Documents/Code/python/data/\"+run+\"/\"+run+\"AIJv_grid.csv\")"
   ]
  },
  {
   "cell_type": "code",
   "execution_count": null,
   "id": "fa1d076b",
   "metadata": {},
   "outputs": [],
   "source": [
    "x = lons\n",
    "y = lats\n",
    "z = remNan(u)\n",
    "\n",
    "savename = 'U'\n",
    "graphContour(x,y,z,savename)"
   ]
  },
  {
   "cell_type": "code",
   "execution_count": null,
   "id": "c67990a1",
   "metadata": {},
   "outputs": [],
   "source": [
    "x = lons\n",
    "y = lats\n",
    "z = remNan(v)\n",
    "\n",
    "savename = 'V'\n",
    "graphContour(x,y,z,savename)"
   ]
  },
  {
   "cell_type": "code",
   "execution_count": null,
   "id": "6816fc6c",
   "metadata": {},
   "outputs": [],
   "source": [
    "x, y, z = interpNans(lons,lats,u)\n",
    "\n",
    "\n",
    "savename = 'U_interp'\n",
    "graphContour(x,y,z,savename)"
   ]
  },
  {
   "cell_type": "code",
   "execution_count": null,
   "id": "c3423d26",
   "metadata": {},
   "outputs": [],
   "source": [
    "x, y, z = interpNans(lons,lats,v)\n",
    "#x, y, z = interpNans(x,y,z)\n",
    "savename = 'V_interp'\n",
    "graphContour(x,y,z,savename)"
   ]
  },
  {
   "cell_type": "code",
   "execution_count": null,
   "id": "f61eccb1",
   "metadata": {},
   "outputs": [],
   "source": []
  },
  {
   "cell_type": "code",
   "execution_count": null,
   "id": "3df3a52c",
   "metadata": {},
   "outputs": [],
   "source": []
  },
  {
   "cell_type": "code",
   "execution_count": null,
   "id": "d080251f",
   "metadata": {},
   "outputs": [],
   "source": []
  }
 ],
 "metadata": {
  "kernelspec": {
   "display_name": "Python 3 (ipykernel)",
   "language": "python",
   "name": "python3"
  },
  "language_info": {
   "codemirror_mode": {
    "name": "ipython",
    "version": 3
   },
   "file_extension": ".py",
   "mimetype": "text/x-python",
   "name": "python",
   "nbconvert_exporter": "python",
   "pygments_lexer": "ipython3",
   "version": "3.9.7"
  }
 },
 "nbformat": 4,
 "nbformat_minor": 5
}

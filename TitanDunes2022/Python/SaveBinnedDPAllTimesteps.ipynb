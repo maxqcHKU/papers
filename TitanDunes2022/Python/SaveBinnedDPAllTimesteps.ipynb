{
 "cells": [
  {
   "cell_type": "markdown",
   "id": "3181b7e2",
   "metadata": {},
   "source": [
    "# To save surface wind diagnostics into CSV files"
   ]
  },
  {
   "cell_type": "code",
   "execution_count": null,
   "id": "6fa3c33a",
   "metadata": {},
   "outputs": [],
   "source": [
    "from ipynb.fs.full.procc import *\n",
    "from statsmodels.nonparametric.smoothers_lowess import lowess\n",
    "import seaborn as sns\n",
    "from scipy.stats import sem, ttest_ind\n",
    "import matplotlib.cm as cm\n",
    "from matplotlib import colors\n",
    "from matplotlib.ticker import PercentFormatter\n",
    "import sys\n",
    "from scipy.signal import savgol_filter\n",
    "import csv\n",
    "\n",
    "### only wanted binnedDP, do original DP (0.005) and check 0.04? (maybe should just recalc everything with 0.04 too?)\n",
    "### change output location, i.e. + \"binnedDP/\""
   ]
  },
  {
   "cell_type": "markdown",
   "id": "a8f9e5f0",
   "metadata": {},
   "source": [
    "## Function to process files into a dictionary"
   ]
  },
  {
   "cell_type": "code",
   "execution_count": null,
   "id": "db9ac666",
   "metadata": {},
   "outputs": [],
   "source": [
    "# Vars = [U, V, W, Dir, DP, DP_STD, DP_STDERR, RDD]\n",
    "# wind direction 'to'/towards degree, clockwise from north = 0°\n",
    "\n",
    "def procFiles(for_direc, var, average):\n",
    "    \n",
    "    sorted_file_dict = {}\n",
    "    file_dict = {}\n",
    "    file_end = var+\".csv\"\n",
    "    \n",
    "    #creates a dictionary with the file name as the key and the path of the file as the value\n",
    "    for root, dirs, filenames in os.walk(for_direc):\n",
    "        for file in filenames:\n",
    "            if average:\n",
    "                if file.endswith(file_end) and 'Avg' in file: \n",
    "                    file_to_add = os.path.join(root, file) \n",
    "                    file_dict[file] = file_to_add\n",
    "            else: \n",
    "                if file.endswith(file_end) and 'Avg' not in file: \n",
    "                    file_to_add = os.path.join(root, file) \n",
    "                    file_dict[file] = file_to_add\n",
    "    \n",
    "    for key in sorted(file_dict.keys()):\n",
    "        sorted_file_dict[key] = file_dict[key]\n",
    "        \n",
    "    return sorted_file_dict"
   ]
  },
  {
   "cell_type": "code",
   "execution_count": null,
   "id": "e161f948",
   "metadata": {},
   "outputs": [],
   "source": [
    "def openCSV(fn):\n",
    "    array = []\n",
    "    \n",
    "    with open(fn, newline='') as csvfile:\n",
    "        spamreader = csv.reader(csvfile, delimiter=',', quotechar='|')\n",
    "        for row in spamreader:\n",
    "            for num in row:\n",
    "                array.append(float(num))\n",
    "    return array"
   ]
  },
  {
   "cell_type": "code",
   "execution_count": null,
   "id": "a11883cd",
   "metadata": {},
   "outputs": [],
   "source": [
    "def direcToArray(direc):\n",
    "    arr = []\n",
    "    \n",
    "    if len(direc.keys()) > 1:\n",
    "        for key in direc.keys():\n",
    "            arr.append(openCSV(direc[key]))\n",
    "    else:\n",
    "        key = list(direc.keys())\n",
    "        key=key[0]\n",
    "        arr = openCSV(direc[key])\n",
    "   \n",
    "    return arr"
   ]
  },
  {
   "cell_type": "code",
   "execution_count": null,
   "id": "7c38cfe2",
   "metadata": {},
   "outputs": [],
   "source": [
    "def assignDay(arr):\n",
    "    arrDay = []\n",
    "    \n",
    "    for i in range(0,int(len(arr)/766)):\n",
    "        arrDay.append(arr[766*i:766*(i+1)])\n",
    "    \n",
    "    return arrDay"
   ]
  },
  {
   "cell_type": "code",
   "execution_count": null,
   "id": "95861d56",
   "metadata": {},
   "outputs": [],
   "source": [
    "def flattenLoL(arr): #flatten list of lists\n",
    "    flat_arr = []\n",
    "    \n",
    "    for list in arr:\n",
    "        for val in list:\n",
    "            flat_arr.append(val)\n",
    "\n",
    "    return flat_arr"
   ]
  },
  {
   "cell_type": "markdown",
   "id": "24991e5a",
   "metadata": {},
   "source": [
    "## Assign constants and obtain input parameters"
   ]
  },
  {
   "cell_type": "code",
   "execution_count": null,
   "id": "c692e179",
   "metadata": {},
   "outputs": [],
   "source": [
    "# fensal eastern edge = 2.0 lat, 2.5 lon\n",
    "# fensal center = 2.0 lat, - 52.5 lon\n",
    "# shangrila eastern edge = -6.0 lat, -142.5\n",
    "# shangrila center = -6.0 lat, -177.5 lon\n",
    "# belet eastern edge = 2.0 lat, 142.5 lon\n",
    "# belet center = 2.0 lat, 107.5 lon\n",
    "\n",
    "#UT = [uf*24.3 for uf in UF] # 24.3 from log wind profile equation"
   ]
  },
  {
   "cell_type": "code",
   "execution_count": null,
   "id": "7848a260",
   "metadata": {},
   "outputs": [],
   "source": [
    "direc = str(sys.argv[1]) # Ends in '/'\n",
    "run = str(sys.argv[2].upper())\n",
    "region = str(sys.argv[3].lower()) \n",
    "location = str(sys.argv[4].lower())\n",
    "average = sys.argv[5].lower() == 'true'\n",
    "UF = float(sys.argv[6])"
   ]
  },
  {
   "cell_type": "code",
   "execution_count": null,
   "id": "11479eec",
   "metadata": {},
   "outputs": [],
   "source": [
    "loc_name = ''\n",
    "\n",
    "if region == 'belet':\n",
    "    region = '/Belet/'\n",
    "    reg_name = 'Belet'\n",
    "elif region == 'shangrila':\n",
    "    region = '/ShangriLa/'\n",
    "    reg_name = 'Shang'\n",
    "elif region == 'fensal':\n",
    "    region = '/Fensal/'\n",
    "    reg_name = 'Fen'\n",
    "elif region == 'equator_timestep':\n",
    "    region = '/Equator/Timestep/'\n",
    "    reg_name = 'Eq'\n",
    "    location = ''\n",
    "\n",
    "if region == 'equator_timestep' or region == 'equator_daily':\n",
    "    pass\n",
    "elif location == 'center':\n",
    "    location = 'Center/'\n",
    "    loc_name = 'C'\n",
    "elif location == 'edge':\n",
    "    location = 'EastEdge/'\n",
    "    loc_name = 'E'\n",
    "\n",
    "name = run + \"_\" + reg_name + loc_name + \"_\"\n",
    "direc = direc + run + region + location\n",
    "saveloc = direc + \"BinnedDP/\""
   ]
  },
  {
   "cell_type": "code",
   "execution_count": null,
   "id": "85160fed",
   "metadata": {},
   "outputs": [],
   "source": [
    "W_Direc = procFiles(direc,'W', average)\n",
    "Dir_Direc = procFiles(direc,'Dir', average)"
   ]
  },
  {
   "cell_type": "code",
   "execution_count": null,
   "id": "f0b88ddd",
   "metadata": {},
   "outputs": [],
   "source": [
    "W = direcToArray(W_Direc)\n",
    "DIR = direcToArray(Dir_Direc)"
   ]
  },
  {
   "cell_type": "code",
   "execution_count": null,
   "id": "0084adef",
   "metadata": {},
   "outputs": [],
   "source": [
    "if not average:\n",
    "    W = flattenLoL(W)\n",
    "    DIR = flattenLoL(DIR)\n",
    "\n",
    "    W = assignDay(W)\n",
    "    DIR = assignDay(DIR)"
   ]
  },
  {
   "cell_type": "code",
   "execution_count": null,
   "id": "ec2775a5",
   "metadata": {},
   "outputs": [],
   "source": [
    "if average:\n",
    "    name = name + 'Avg'\n",
    "else:\n",
    "    name = name + 'All'\n",
    "    \n",
    "savename = name+\"_\"+str(UF).replace(\".\",\"\")"
   ]
  },
  {
   "cell_type": "code",
   "execution_count": null,
   "id": "acc0592b",
   "metadata": {},
   "outputs": [],
   "source": [
    "output = saveloc+savename"
   ]
  },
  {
   "cell_type": "code",
   "execution_count": null,
   "id": "15897b19",
   "metadata": {},
   "outputs": [],
   "source": [
    "def binnedDP(W, Dir, UT):\n",
    "           \n",
    "    bins=[]\n",
    "    windbins = np.arange(0,361,22.5)\n",
    "    deg_midP = [(windbins[i]+windbins[i+1])/2 for i in range(0,len(windbins)-1)]\n",
    "\n",
    "    for i in range(0,len(windbins)-1):\n",
    "        if i == len(windbins)-1:\n",
    "            bins.append((xr.where((Dir>=windbins[i]) & (Dir<=windbins[i+1]), True, False)))\n",
    "        else:\n",
    "            bins.append((xr.where((Dir>=windbins[i]) & (Dir<windbins[i+1]), True, False)))\n",
    "\n",
    "\n",
    "    t = xr.where(W>UT,1,0)\n",
    "    total=len(t)\n",
    "    cum_sum = sum(t)\n",
    "    t = float(cum_sum/total)\n",
    "\n",
    "    bins = [(np.ma.masked_equal((bins[i]*W),0)).compressed() for i in range(0,len(bins))]\n",
    "\n",
    "    binnedWavg = [np.mean(bins[i], axis=0) for i in range(0,len(bins))]\n",
    "\n",
    "    binnedDP = [(binnedWavg[i]**2 * (binnedWavg[i] - UT) * t) / 100. for i in range(0,len(bins))]\n",
    "\n",
    "    binnedDP = [dp if dp >= 0.0 else 0.0 for dp in binnedDP]\n",
    "    \n",
    "    bin_DP = [(binnedDP[i], deg_midP[i]) for i in range(0,len(binnedDP))]\n",
    "    \n",
    "    return bin_DP\n",
    "\n",
    "    #     # For calculation of threshold velocity at 10 m, need to figure out if right\n",
    "    #     # https://books.google.com.hk/books?hl=en&lr=&id=eaxTAVp9avkC&oi=fnd&pg=PA137&ots=5nAJ__p7CX&sig=_a4lg7V3Io9mrdCbMY3I7uW0HD4&redir_esc=y#v=onepage&q=threshold&f=false"
   ]
  },
  {
   "cell_type": "code",
   "execution_count": null,
   "id": "c91ba0e0",
   "metadata": {},
   "outputs": [],
   "source": [
    "UT = UF*24.3\n",
    "\n",
    "allBinDP = []\n",
    "\n",
    "for day, w in enumerate(W):\n",
    "    binDP = binnedDP(np.array(w),np.array(DIR[day]),UT)\n",
    "    to_del = []\n",
    "    \n",
    "    for index, dp in enumerate(binDP):\n",
    "        if dp[0] == 0.0:\n",
    "            to_del.append(index)\n",
    "    binDP_clean = np.delete(binDP, to_del, axis=0)\n",
    "\n",
    "    allBinDP.append(binDP_clean)\n",
    "\n",
    "allBinDP = flattenLoL(allBinDP)\n",
    "\n",
    "DP = np.take(allBinDP, 0, axis=1)\n",
    "DIR = np.take(allBinDP, 1, axis=1)\n",
    "\n",
    "np.savetxt(output+\"_binDP.csv\", DP, delimiter=\",\")\n",
    "np.savetxt(output+\"_binDIR.csv\", DIR, delimiter=\",\")"
   ]
  },
  {
   "cell_type": "code",
   "execution_count": null,
   "id": "77d54b4f",
   "metadata": {},
   "outputs": [],
   "source": [
    "# import argparse\n",
    "\n",
    "# # defined command line options\n",
    "# # this also generates --help and error handling\n",
    "\n",
    "# CLI=argparse.ArgumentParser()\n",
    "\n",
    "# CLI.add_argument(\n",
    "#   \"--loc\",  # name on the CLI - drop the `--` for positional/required parameters\n",
    "#   nargs=\"*\",  # 0 or more values expected => creates a list\n",
    "#   type=tuple,\n",
    "#   default=[('-2','-2.5'),('-2','2.5'),('2','2.5'),('2','-2.5')],  # default if nothing is provided\n",
    "# )\n",
    "\n",
    "\n",
    "# # parse the command line\n",
    "# args = CLI.parse_args()\n",
    "# # access CLI options\n",
    "# print(\"loc: %r\" % args.loc)\n",
    "\n",
    "# loc = args.loc"
   ]
  }
 ],
 "metadata": {
  "kernelspec": {
   "display_name": "Python 3",
   "language": "python",
   "name": "python3"
  },
  "language_info": {
   "codemirror_mode": {
    "name": "ipython",
    "version": 3
   },
   "file_extension": ".py",
   "mimetype": "text/x-python",
   "name": "python",
   "nbconvert_exporter": "python",
   "pygments_lexer": "ipython3",
   "version": "3.7.8"
  }
 },
 "nbformat": 4,
 "nbformat_minor": 5
}
